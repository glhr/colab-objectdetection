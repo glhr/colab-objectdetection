{
  "nbformat": 4,
  "nbformat_minor": 0,
  "metadata": {
    "colab": {
      "name": "box_generation.ipynb",
      "provenance": []
    },
    "kernelspec": {
      "name": "python3",
      "display_name": "Python 3"
    }
  },
  "cells": [
    {
      "cell_type": "code",
      "metadata": {
        "id": "fuHwiVn6c2MY",
        "colab_type": "code",
        "outputId": "24ad99bb-31d8-4917-de7d-803309e6cdd9",
        "colab": {
          "base_uri": "https://localhost:8080/",
          "height": 122
        }
      },
      "source": [
        "from google.colab import drive\n",
        "drive.mount('/content/drive')"
      ],
      "execution_count": 0,
      "outputs": [
        {
          "output_type": "stream",
          "text": [
            "Go to this URL in a browser: https://accounts.google.com/o/oauth2/auth?client_id=947318989803-6bn6qk8qdgf4n4g3pfee6491hc0brc4i.apps.googleusercontent.com&redirect_uri=urn%3aietf%3awg%3aoauth%3a2.0%3aoob&response_type=code&scope=email%20https%3a%2f%2fwww.googleapis.com%2fauth%2fdocs.test%20https%3a%2f%2fwww.googleapis.com%2fauth%2fdrive%20https%3a%2f%2fwww.googleapis.com%2fauth%2fdrive.photos.readonly%20https%3a%2f%2fwww.googleapis.com%2fauth%2fpeopleapi.readonly\n",
            "\n",
            "Enter your authorization code:\n",
            "··········\n",
            "Mounted at /content/drive\n"
          ],
          "name": "stdout"
        }
      ]
    },
    {
      "cell_type": "code",
      "metadata": {
        "id": "56d4rfxZMkkm",
        "colab_type": "code",
        "colab": {}
      },
      "source": [
        "import numpy as np\n",
        "from keras.preprocessing.image import load_img\n",
        "from keras.preprocessing.image import img_to_array\n",
        "from keras.preprocessing.image import ImageDataGenerator\n",
        "\n",
        "def augment_data(img_path, gen_data_path, num_img):\n",
        "\n",
        "    # load the input image, convert it to a NumPy array, and then\n",
        "    # reshape it to have an extra dimension\n",
        "    print(f\"Start to generate {num_img} box image...\")\n",
        "    image = load_img(img_path)\n",
        "    image = img_to_array(image)\n",
        "    image = np.expand_dims(image, axis=0)\n",
        "    total_img = num_img\n",
        "\n",
        "    # construct the image generator for data augmentation then\n",
        "    # initialize the total number of images generated thus far\n",
        "    aug = ImageDataGenerator(\n",
        "        rotation_range=30,\n",
        "        zoom_range=0.15,\n",
        "        width_shift_range=0.2,\n",
        "        height_shift_range=0.2,\n",
        "        shear_range=0.15,\n",
        "        horizontal_flip=True,\n",
        "        fill_mode=\"nearest\")\n",
        "\n",
        "    imageGen = aug.flow(image, batch_size=1, save_to_dir=gen_data_path,\n",
        "        save_prefix=\"image\", save_format=\"png\")\n",
        "\n",
        "    # loop over examples from our image data augmentation generator\n",
        "    for image in imageGen:\n",
        "        # increment our counter\n",
        "        total_img -= 1\n",
        "\n",
        "        # if we have reached the specified number of examples, break\n",
        "        # from the loop\n",
        "        if total_img == 0:\n",
        "            print(\"Done...\")\n",
        "            break\n"
      ],
      "execution_count": 0,
      "outputs": []
    },
    {
      "cell_type": "code",
      "metadata": {
        "id": "CoLhJpC7M3sF",
        "colab_type": "code",
        "colab": {
          "base_uri": "https://localhost:8080/",
          "height": 51
        },
        "outputId": "a191522e-8ce9-4616-b5f4-00d76d5c5a9e"
      },
      "source": [
        "augment_data(\"/content/drive/My Drive/augmentation/box_1.png\", \"/content/drive/My Drive/augmentation/more_data\", 5)"
      ],
      "execution_count": 5,
      "outputs": [
        {
          "output_type": "stream",
          "text": [
            "Start to generate 5 box image...\n",
            "Done...\n"
          ],
          "name": "stdout"
        }
      ]
    }
  ]
}